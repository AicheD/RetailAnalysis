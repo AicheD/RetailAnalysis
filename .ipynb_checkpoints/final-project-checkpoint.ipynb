{
 "cells": [
  {
   "cell_type": "markdown",
   "id": "5ec90e1a-86a8-40b4-9620-50aea971ce20",
   "metadata": {},
   "source": [
    "# Final Project\n",
    "## by Harry Zarcadoolas & Gabe De Brito"
   ]
  },
  {
   "cell_type": "code",
   "execution_count": null,
   "id": "c074df0e-93db-47cc-85a3-a1899195df62",
   "metadata": {},
   "outputs": [],
   "source": []
  }
 ],
 "metadata": {
  "kernelspec": {
   "display_name": "Python 3 (ipykernel)",
   "language": "python",
   "name": "python3"
  },
  "language_info": {
   "codemirror_mode": {
    "name": "ipython",
    "version": 3
   },
   "file_extension": ".py",
   "mimetype": "text/x-python",
   "name": "python",
   "nbconvert_exporter": "python",
   "pygments_lexer": "ipython3",
   "version": "3.9.20"
  }
 },
 "nbformat": 4,
 "nbformat_minor": 5
}
